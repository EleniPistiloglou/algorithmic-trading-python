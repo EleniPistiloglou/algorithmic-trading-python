{
 "cells": [
  {
   "cell_type": "code",
   "execution_count": 1,
   "metadata": {},
   "outputs": [],
   "source": [
    "import numpy as np"
   ]
  },
  {
   "cell_type": "code",
   "execution_count": 2,
   "metadata": {},
   "outputs": [],
   "source": [
    "import pandas as pd"
   ]
  },
  {
   "cell_type": "code",
   "execution_count": 3,
   "metadata": {},
   "outputs": [],
   "source": [
    "import requests"
   ]
  },
  {
   "cell_type": "code",
   "execution_count": 4,
   "metadata": {},
   "outputs": [],
   "source": [
    "import xlsxwriter"
   ]
  },
  {
   "cell_type": "code",
   "execution_count": 5,
   "metadata": {},
   "outputs": [],
   "source": [
    "import math"
   ]
  },
  {
   "cell_type": "code",
   "execution_count": 6,
   "metadata": {},
   "outputs": [],
   "source": [
    "import pandas as pd \n",
    "stocks = pd.read_csv('sp_500_stocks.csv')"
   ]
  },
  {
   "cell_type": "code",
   "execution_count": 7,
   "metadata": {},
   "outputs": [],
   "source": [
    "from loging_secrets import getToken"
   ]
  },
  {
   "cell_type": "code",
   "execution_count": 8,
   "metadata": {},
   "outputs": [],
   "source": [
    "base_url = 'https://api.iex.cloud/v1'\n",
    "symbol = 'aapl'\n",
    "IEX_CLOUD_API_TOKEN = getToken()\n",
    "quote_url = f'/data/core/quote/{symbol}'\n",
    "token_var = f'/?token={IEX_CLOUD_API_TOKEN}'\n",
    "api_url = base_url + quote_url + token_var"
   ]
  },
  {
   "cell_type": "code",
   "execution_count": 9,
   "metadata": {},
   "outputs": [],
   "source": [
    "data = requests.get(api_url)"
   ]
  },
  {
   "cell_type": "code",
   "execution_count": 10,
   "metadata": {},
   "outputs": [],
   "source": [
    "stock_data = data.json()[0]"
   ]
  },
  {
   "cell_type": "code",
   "execution_count": 11,
   "metadata": {},
   "outputs": [],
   "source": [
    "my_columns = [ 'Ticker', 'Stock Price', 'Market Capitalization', 'Number of Shares to buy' ]"
   ]
  },
  {
   "cell_type": "code",
   "execution_count": 12,
   "metadata": {},
   "outputs": [],
   "source": [
    "price = stock_data['latestPrice']\n",
    "market_cap = stock_data['marketCap']\n",
    "dataframe = pd.DataFrame([[symbol, price, market_cap, 'N/A']], columns = my_columns)"
   ]
  },
  {
   "cell_type": "code",
   "execution_count": 13,
   "metadata": {},
   "outputs": [
    {
     "name": "stderr",
     "output_type": "stream",
     "text": [
      "C:\\Users\\elenp\\AppData\\Local\\Temp\\ipykernel_9936\\3861297761.py:12: FutureWarning: The behavior of DataFrame concatenation with empty or all-NA entries is deprecated. In a future version, this will no longer exclude empty or all-NA columns when determining the result dtypes. To retain the old behavior, exclude the relevant entries before the concat operation.\n",
      "  final_frame = pd.concat([final_frame, frame], ignore_index=True)\n"
     ]
    }
   ],
   "source": [
    "final_frame = pd.DataFrame([], columns = my_columns)\n",
    "\n",
    "for index,stock in stocks.iterrows():\n",
    "    symbol = stock['Ticker']\n",
    "    data = requests.get(api_url)\n",
    "    stock_data = data.json()[0]\n",
    "    \n",
    "    price = stock_data['latestPrice']\n",
    "    market_cap = stock_data['marketCap']\n",
    "    \n",
    "    frame = pd.DataFrame([[symbol, price, market_cap, 'N/A']], columns = my_columns)\n",
    "    final_frame = pd.concat([final_frame, frame], ignore_index=True)\n",
    "\n",
    "    if index == 10 : break\n"
   ]
  },
  {
   "cell_type": "code",
   "execution_count": 14,
   "metadata": {},
   "outputs": [],
   "source": [
    "def chunks(lst, n):\n",
    "    for i in range(0, len(lst), n):\n",
    "        yield lst[i:i + n]"
   ]
  },
  {
   "cell_type": "code",
   "execution_count": 15,
   "metadata": {},
   "outputs": [
    {
     "name": "stderr",
     "output_type": "stream",
     "text": [
      "C:\\Users\\elenp\\AppData\\Local\\Temp\\ipykernel_9936\\3639811771.py:15: FutureWarning: The behavior of DataFrame concatenation with empty or all-NA entries is deprecated. In a future version, this will no longer exclude empty or all-NA columns when determining the result dtypes. To retain the old behavior, exclude the relevant entries before the concat operation.\n",
      "  final_frame = pd.concat([final_frame, frame], ignore_index=True)\n"
     ]
    }
   ],
   "source": [
    "symbol_groups = list(chunks(stocks['Ticker'].values.tolist()[:100], 10))\n",
    "\n",
    "symbol_strings = []\n",
    "for i in range(0, len(symbol_groups)):\n",
    "    symbol_strings.append(','.join(symbol_groups[i]))\n",
    "\n",
    "final_frame = pd.DataFrame([], columns = my_columns)\n",
    "\n",
    "for symbol_string in symbol_strings:\n",
    "    batch_api_url = base_url + f'/data/core/QUOTE/{symbol_string}' + token_var\n",
    "    data = requests.get(batch_api_url) #list of objects\n",
    "\n",
    "    for obj in data.json():\n",
    "        frame = pd.DataFrame([[obj['symbol'], obj['latestPrice'], obj['marketCap'], 'N/A']], columns = my_columns)\n",
    "        final_frame = pd.concat([final_frame, frame], ignore_index=True)"
   ]
  },
  {
   "cell_type": "code",
   "execution_count": 16,
   "metadata": {},
   "outputs": [
    {
     "name": "stderr",
     "output_type": "stream",
     "text": [
      "C:\\Users\\elenp\\AppData\\Local\\Temp\\ipykernel_9936\\1689447475.py:9: FutureWarning: Starting with pandas version 3.0 all arguments of to_excel except for the argument 'excel_writer' will be keyword-only.\n",
      "  final_frame.to_excel(writer, 'Recommended Trades', index = False)\n"
     ]
    }
   ],
   "source": [
    "portfolio_size = 1000000\n",
    "\n",
    "position_size = portfolio_size/len(final_frame.index)\n",
    "\n",
    "for i in range(0, len(final_frame)):\n",
    "    final_frame.iloc[i, 3] = math.floor(position_size/final_frame.iloc[i, 1])\n",
    "\n",
    "writer = pd.ExcelWriter('recommended_trades.xlsx', engine = 'xlsxwriter')\n",
    "final_frame.to_excel(writer, 'Recommended Trades', index = False)"
   ]
  },
  {
   "cell_type": "code",
   "execution_count": 17,
   "metadata": {},
   "outputs": [],
   "source": [
    "background_color = '#0a0a23'\n",
    "font_color = '#ffffff'\n",
    "\n",
    "string_format = writer.book.add_format({'font_color':font_color, 'bg_color':background_color, 'border':1})\n",
    "dolar_format = writer.book.add_format({'num_format':'$0.00', 'font_color':font_color, 'bg_color':background_color, 'border':1})\n",
    "integer_format = writer.book.add_format({'num_format':'0', 'font_color':font_color, 'bg_color':background_color, 'border':1})"
   ]
  },
  {
   "cell_type": "code",
   "execution_count": 18,
   "metadata": {},
   "outputs": [],
   "source": [
    "column_formats = {\n",
    "    'A': ['Ticker', string_format], \n",
    "    'B': ['Stock Price', dolar_format], \n",
    "    'C': ['Market Capitalization', dolar_format], \n",
    "    'D': ['Number of Shares to buy', integer_format]\n",
    "}\n",
    "\n",
    "for col in column_formats.keys():\n",
    "    writer.sheets['Recommended Trades'].set_column(f'{col}:{col}', 18, column_formats[col][1])\n"
   ]
  },
  {
   "cell_type": "code",
   "execution_count": 19,
   "metadata": {},
   "outputs": [],
   "source": [
    "writer.close()"
   ]
  }
 ],
 "metadata": {
  "kernelspec": {
   "display_name": "algorithmic-trading-python",
   "language": "python",
   "name": "algorithmic-trading-python"
  },
  "language_info": {
   "codemirror_mode": {
    "name": "ipython",
    "version": 3
   },
   "file_extension": ".py",
   "mimetype": "text/x-python",
   "name": "python",
   "nbconvert_exporter": "python",
   "pygments_lexer": "ipython3",
   "version": "3.9.6"
  }
 },
 "nbformat": 4,
 "nbformat_minor": 4
}
